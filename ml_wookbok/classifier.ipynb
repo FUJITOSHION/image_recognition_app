{
 "cells": [
  {
   "cell_type": "code",
   "execution_count": null,
   "metadata": {},
   "outputs": [],
   "source": [
    "import glob\n",
    "import numpy as np\n",
    "import preprocessing as pp\n",
    "import matplotlib.pyplot as plt\n",
    "from keras import backend as K\n",
    "from IPython.display import Image as IM\n",
    "from keras import layers, models, optimizers\n",
    "from keras.utils.np_utils import to_categorical\n",
    "from IPython.display import display_jpeg,display_png\n",
    "from keras.applications import VGG16, Xception,ResNet50\n",
    "from keras.preprocessing.image import ImageDataGenerator"
   ]
  },
  {
   "cell_type": "code",
   "execution_count": null,
   "metadata": {},
   "outputs": [],
   "source": [
    "def original_model(in_shpae):\n",
    "    model = models.Sequential()\n",
    "    model.add(layers.Conv2D(\n",
    "        4, (3, 3), activation = 'relu',padding = 'same',input_shape = in_shpae))\n",
    "    model.add(layers.MaxPool2D((2,2)))\n",
    "    model.add(layers.Conv2D(16, (3, 3), activation= 'relu', padding= 'same'))\n",
    "    model.add(layers.MaxPool2D((2,2)))\n",
    "    model.add(layers.Dropout(0.5))\n",
    "    model.add(layers.Conv2D(64, (3,3), activation = 'relu'))\n",
    "    model.add(layers.MaxPool2D((2,2)))\n",
    "    model.add(layers.Dropout(0.5))\n",
    "    model.add(layers.Conv2D(128, (3,3), activation='relu', padding = 'same'))\n",
    "    model.add(layers.MaxPool2D((2,2)))\n",
    "    model.add(layers.Conv2D(256, (3,3), activation='relu', padding = 'same'))\n",
    "    model.add(layers.MaxPool2D((2,2)))\n",
    "    model.add(layers.Dropout(0.5))\n",
    "    model.add(layers.Conv2D(512, (3,3), activation='relu', padding = 'same'))\n",
    "    model.add(layers.MaxPool2D((2,2)))\n",
    "    model.add(layers.Flatten())\n",
    "    model.add(layers.Dense(7, activation = 'softmax'))\n",
    "    model.compile(optimizer='adam',\n",
    "                  loss = 'categorical_crossentropy', \n",
    "                  metrics = ['accuracy'])\n",
    "    \n",
    "    return model"
   ]
  },
  {
   "cell_type": "code",
   "execution_count": null,
   "metadata": {},
   "outputs": [],
   "source": [
    "def xception_model(in_shpae):\n",
    "    return model"
   ]
  },
  {
   "cell_type": "code",
   "execution_count": 2,
   "metadata": {},
   "outputs": [],
   "source": [
    "def vgg16_model():\n",
    "    base_vgg = VGG16(\n",
    "                    weights = 'imagenet',\n",
    "                    include_top = False,\n",
    "                    input_shape = X_train[0].shape)\n",
    "    \n",
    "    model = models.Sequential()\n",
    "    model.add(base_vgg)\n",
    "    model.add(layers.Conv2D(512, (3,3), activation='relu', padding = 'same'))\n",
    "    model.add(layers.MaxPool2D((2,2)))\n",
    "    model.add(layers.Flatten())\n",
    "    model.add(layers.Dense(7, activation = 'softmax'))\n",
    "    for layer in base_vgg.layers[:-4]:\n",
    "        layer.trainable = False\n",
    "    model.compile(optimizer=optimizers.RMSprop(lr = 1e-5),\n",
    "                  loss = 'categorical_crossentropy', \n",
    "                  metrics = ['accuracy'])\n",
    "    return model"
   ]
  },
  {
   "cell_type": "code",
   "execution_count": null,
   "metadata": {},
   "outputs": [],
   "source": [
    "# def train_generator():\n",
    "#     train_datagen = ImageDataGenerator(rescale = 1./255)\n",
    "#     return train_generator"
   ]
  },
  {
   "cell_type": "code",
   "execution_count": null,
   "metadata": {},
   "outputs": [],
   "source": []
  },
  {
   "cell_type": "code",
   "execution_count": 3,
   "metadata": {},
   "outputs": [],
   "source": [
    "# 前処理\n",
    "X_train = []\n",
    "y_train = []\n",
    "datas = glob.glob('../data/*')\n",
    "imsize = (224,224)\n",
    "for data in datas:\n",
    "    class_label = pp.data_to_label(data)\n",
    "    img = pp.load_image(data,imsize)\n",
    "    X = np.array(img)\n",
    "    X_train.append(X)\n",
    "    y_train.append(class_label)\n",
    "X_train,y_train = pp.list_to_array(X_train, y_train)\n",
    "y_train = to_categorical(y_train)"
   ]
  },
  {
   "cell_type": "code",
   "execution_count": null,
   "metadata": {},
   "outputs": [],
   "source": [
    "# build_modelフェーズ\n",
    "original_model = original_model(X_train[0].shape)\n",
    "original_model.fit(X_train, y_train, epochs = 12)"
   ]
  },
  {
   "cell_type": "code",
   "execution_count": null,
   "metadata": {},
   "outputs": [],
   "source": [
    "# xception_model = xception_model(in_shape)"
   ]
  },
  {
   "cell_type": "code",
   "execution_count": 4,
   "metadata": {},
   "outputs": [
    {
     "name": "stdout",
     "output_type": "stream",
     "text": [
      "Epoch 1/10\n",
      "100/100 [==============================] - 32s 322ms/step - loss: 2.2408 - accuracy: 0.1000\n",
      "Epoch 2/10\n",
      "100/100 [==============================] - 35s 353ms/step - loss: 1.5266 - accuracy: 0.4800\n",
      "Epoch 3/10\n",
      "100/100 [==============================] - 37s 366ms/step - loss: 1.3118 - accuracy: 0.5700\n",
      "Epoch 4/10\n",
      "100/100 [==============================] - 36s 364ms/step - loss: 1.1683 - accuracy: 0.5800\n",
      "Epoch 5/10\n",
      "100/100 [==============================] - 37s 369ms/step - loss: 1.0668 - accuracy: 0.7500\n",
      "Epoch 6/10\n",
      "100/100 [==============================] - 36s 361ms/step - loss: 0.9797 - accuracy: 0.7600\n",
      "Epoch 7/10\n",
      "100/100 [==============================] - 33s 334ms/step - loss: 0.9091 - accuracy: 0.7700\n",
      "Epoch 8/10\n",
      "100/100 [==============================] - 34s 342ms/step - loss: 0.8310 - accuracy: 0.7800\n",
      "Epoch 9/10\n",
      "100/100 [==============================] - 35s 351ms/step - loss: 0.7614 - accuracy: 0.8400\n",
      "Epoch 10/10\n",
      "100/100 [==============================] - 33s 334ms/step - loss: 0.6942 - accuracy: 0.8300\n"
     ]
    },
    {
     "data": {
      "text/plain": [
       "<keras.callbacks.callbacks.History at 0x10b0fdcf8>"
      ]
     },
     "execution_count": 4,
     "metadata": {},
     "output_type": "execute_result"
    }
   ],
   "source": [
    "vgg16_model = vgg16_model()\n",
    "vgg16_model.fit(X_train, y_train, epochs = 10)"
   ]
  },
  {
   "cell_type": "code",
   "execution_count": 6,
   "metadata": {},
   "outputs": [],
   "source": [
    "json_string = vgg16_model.to_json()\n",
    "open('vgg16_model.json', 'w').write(json_string)\n",
    "vgg16_model.save_weights('vgg16_model.hdf5')"
   ]
  },
  {
   "cell_type": "code",
   "execution_count": null,
   "metadata": {},
   "outputs": [],
   "source": [
    "# 予測\n",
    "X_test = []\n",
    "test_data = './data/12_0052.png'\n",
    "imsize = (224,224)\n",
    "test_img = pp.load_image(test_data,imsize)\n",
    "x_test = np.array(test_img)\n",
    "X_test.append(x_test)\n",
    "X_test = np.array(X_test)\n",
    "# y_pred = original_model.predict(X_test)\n",
    "y_pred = vgg16_model.predict(X_test)\n"
   ]
  },
  {
   "cell_type": "code",
   "execution_count": null,
   "metadata": {},
   "outputs": [],
   "source": [
    "print('予想年齢:{}'.format(y_pred))\n",
    "if test_data[-3:] =='png':\n",
    "    display_png(IM(test_data))\n",
    "elif test_data[-3:] =='jpg':\n",
    "    display_jpeg(IM(test_data))"
   ]
  },
  {
   "cell_type": "code",
   "execution_count": null,
   "metadata": {},
   "outputs": [],
   "source": [
    "vgg16_model.summary()"
   ]
  },
  {
   "cell_type": "code",
   "execution_count": null,
   "metadata": {},
   "outputs": [],
   "source": [
    "# ヒートマップ\n",
    "np.argmax(y_pred[0])\n",
    "img_output = vgg16_model.output[:,1]\n",
    "last_conv_layer = vgg16_model.get_layer('conv2d_31')\n",
    "grads = K.gradients(img_output, last_conv_layer.output)[0]\n",
    "pooled_grads = K.mean(grads, axis=(0,1,2))\n",
    "iterate = K.function([vgg16_model.input],[pooled_grads, last_conv_layer.output[0]])\n",
    "pooled_grads_value, conv_layer_output_value = iterate([X_test])\n",
    "for i in range(512):\n",
    "    conv_layer_output_value[: , : , i] *= pooled_grads_value[i]\n",
    "hetamap = np.mean(conv_layer_output_value, axis=-1)"
   ]
  },
  {
   "cell_type": "code",
   "execution_count": null,
   "metadata": {},
   "outputs": [],
   "source": [
    "heatmap = np.maximum(hetamap, 0)\n",
    "heatmap/= np.max(heatmap)\n",
    "plt.matshow(heatmap)"
   ]
  },
  {
   "cell_type": "code",
   "execution_count": null,
   "metadata": {},
   "outputs": [],
   "source": [
    "import cv2\n",
    "img3 = cv2.imread(test_data)\n",
    "heatmap = cv2.resize(heatmap, (img3.shape[1], img3.shape[0]))\n",
    "heatmap = np.uint8(255 * heatmap)\n",
    "heatmap = cv2.applyColorMap(heatmap, cv2.COLORMAP_JET)\n",
    "saveimg = heatmap * 0.4 + img3\n",
    "savename = './heat.jpg'\n",
    "cv2.imwrite(savename, saveimg)\n",
    "display_jpeg(IM(savename))"
   ]
  },
  {
   "cell_type": "code",
   "execution_count": null,
   "metadata": {},
   "outputs": [],
   "source": [
    "#　labelの可視化\n",
    "plt.hist(x = y_train,bins=7)"
   ]
  },
  {
   "cell_type": "code",
   "execution_count": null,
   "metadata": {},
   "outputs": [],
   "source": []
  },
  {
   "cell_type": "code",
   "execution_count": null,
   "metadata": {},
   "outputs": [],
   "source": []
  },
  {
   "cell_type": "code",
   "execution_count": null,
   "metadata": {},
   "outputs": [],
   "source": []
  },
  {
   "cell_type": "code",
   "execution_count": null,
   "metadata": {},
   "outputs": [],
   "source": []
  }
 ],
 "metadata": {
  "kernelspec": {
   "display_name": "image-app",
   "language": "python",
   "name": "image-app"
  },
  "language_info": {
   "codemirror_mode": {
    "name": "ipython",
    "version": 3
   },
   "file_extension": ".py",
   "mimetype": "text/x-python",
   "name": "python",
   "nbconvert_exporter": "python",
   "pygments_lexer": "ipython3",
   "version": "3.6.10"
  }
 },
 "nbformat": 4,
 "nbformat_minor": 4
}
